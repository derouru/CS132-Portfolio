{
 "cells": [
  {
   "cell_type": "markdown",
   "metadata": {},
   "source": [
    "## 1. IMPORTING LIBRARIES "
   ]
  },
  {
   "cell_type": "code",
   "execution_count": null,
   "metadata": {},
   "outputs": [],
   "source": [
    "import pandas as pd\n",
    "import numpy as np\n",
    "import matplotlib.pyplot as plt\n",
    "import seaborn as sns"
   ]
  },
  {
   "cell_type": "markdown",
   "metadata": {},
   "source": [
    "## 2. LOADING THE DATASET"
   ]
  },
  {
   "cell_type": "code",
   "execution_count": null,
   "metadata": {},
   "outputs": [],
   "source": [
    "data = pd.read_csv('Labor_Force_Survey.csv')"
   ]
  },
  {
   "cell_type": "markdown",
   "metadata": {},
   "source": [
    "## 3. REMOVING UNUSUED COLUMNS\n",
    "\n"
   ]
  },
  {
   "cell_type": "code",
   "execution_count": null,
   "metadata": {},
   "outputs": [],
   "source": [
    "from sklearn.impute import SimpleImputer\n",
    "imputer = SimpleImputer(strategy='mean')\n",
    "\n",
    "new_data = [col for col in data.columns if 'Unnamed' not in col]\n",
    "dataset = data[new_data]\n",
    "\n",
    "# dataset.fillna(dataset.mean(), inplace=True)\n",
    "dataset.drop(columns=['Region', '2010Urban-RuralFIES', 'Final Weight Based on Projection (provincial projections)', 'Survey Month',\n",
    "                      'Survey Year', 'Psu Number', 'Replicate', 'C101-Line Number', 'C03-Relationship to Household Head', \n",
    "                      'C09a - Currently Attending Non-formal Training for Skills Development'], inplace=True)\n",
    "\n",
    "dataset.shape"
   ]
  },
  {
   "cell_type": "code",
   "execution_count": null,
   "metadata": {},
   "outputs": [],
   "source": [
    "sns.countplot(x='C04-Sex', data=dataset)\n",
    "\n",
    "plt.xlabel('Sex')\n",
    "\n",
    "plt.ylabel('Count')\n",
    "\n",
    "plt.title('Distribution of Male and Female in Workplace')\n",
    "\n",
    "plt.show()"
   ]
  },
  {
   "cell_type": "code",
   "execution_count": null,
   "metadata": {},
   "outputs": [],
   "source": [
    "# List of features to plot histograms for\n",
    "features = [col for col in dataset.columns if col not in ['C04-Sex', 'Household Unique Sequential Number', 'C05-Age as of Last Birthday',\n",
    "                                                          '05-Age as of Last Birthday', 'C06-Marital Status']]\n",
    "\n",
    "# Plot histograms for each feature\n",
    "dataset.hist(column=features, bins=10, figsize=(50, 50))\n",
    "plt.suptitle(\"Histograms of Socioeconomic Factors\", fontsize=50)\n",
    "plt.show()"
   ]
  },
  {
   "cell_type": "code",
   "execution_count": null,
   "metadata": {},
   "outputs": [],
   "source": [
    "import matplotlib.pyplot as plt\n",
    "\n",
    "features = [col for col in dataset.columns if col not in ['C04-Sex', 'Household Unique Sequential Number', 'C05-Age as of Last Birthday',\n",
    "                                                          '05-Age as of Last Birthday']]\n",
    "for feature in features:\n",
    "\n",
    "    feature_preference = dataset[['C04-Sex', feature]]\n",
    "    count_sex = feature_preference.groupby(['C04-Sex', feature]).size().unstack(fill_value=0)\n",
    "\n",
    "\n",
    "    # Add labels and title\n",
    "    count_sex.plot(kind='bar')\n",
    "    plt.xlabel('Gender')\n",
    "    plt.ylabel('Count')\n",
    "    plt.title('Bar Graph')\n",
    "    plt.show()\n",
    "\n",
    "\n"
   ]
  }
 ],
 "metadata": {
  "kernelspec": {
   "display_name": "Python 3",
   "language": "python",
   "name": "python3"
  },
  "language_info": {
   "codemirror_mode": {
    "name": "ipython",
    "version": 3
   },
   "file_extension": ".py",
   "mimetype": "text/x-python",
   "name": "python",
   "nbconvert_exporter": "python",
   "pygments_lexer": "ipython3",
   "version": "3.12.0"
  }
 },
 "nbformat": 4,
 "nbformat_minor": 2
}
