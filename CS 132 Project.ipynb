{
 "cells": [
  {
   "cell_type": "markdown",
   "metadata": {},
   "source": [
    "### 1. Importing Libraries"
   ]
  },
  {
   "cell_type": "code",
   "execution_count": null,
   "metadata": {},
   "outputs": [],
   "source": [
    "import pandas as pd\n",
    "import numpy as np\n",
    "import matplotlib as mpl\n",
    "import matplotlib.pyplot as plt\n",
    "import seaborn as sns"
   ]
  },
  {
   "cell_type": "markdown",
   "metadata": {},
   "source": [
    "### 2. Loading the dataset"
   ]
  },
  {
   "cell_type": "code",
   "execution_count": null,
   "metadata": {},
   "outputs": [],
   "source": [
    "data = pd.read_csv('Labor_Force_Survey.csv')"
   ]
  },
  {
   "cell_type": "markdown",
   "metadata": {},
   "source": [
    "### 3. Performing Exploratory Data Analysis (EDA)\n"
   ]
  },
  {
   "cell_type": "markdown",
   "metadata": {},
   "source": [
    "We want to understand the shape of our data to know how many features and sample are present."
   ]
  },
  {
   "cell_type": "code",
   "execution_count": null,
   "metadata": {},
   "outputs": [],
   "source": [
    "data.shape"
   ]
  },
  {
   "cell_type": "markdown",
   "metadata": {},
   "source": [
    "Getting the information about the data helps in identifying features and handling  values that are missing."
   ]
  },
  {
   "cell_type": "code",
   "execution_count": null,
   "metadata": {},
   "outputs": [],
   "source": [
    "data.info()"
   ]
  },
  {
   "cell_type": "markdown",
   "metadata": {},
   "source": [
    "We handle null values by filling it with the mean of columnusing the fillna() method."
   ]
  },
  {
   "cell_type": "code",
   "execution_count": null,
   "metadata": {},
   "outputs": [],
   "source": [
    "data.fillna(data.mode(), inplace=True)"
   ]
  },
  {
   "cell_type": "markdown",
   "metadata": {},
   "source": [
    "#### Dropping of unnecessary features\n"
   ]
  },
  {
   "cell_type": "markdown",
   "metadata": {},
   "source": [
    "We want to drop values that are deemed unnecessary and irrelevant. Removing these values simplifies the dataset."
   ]
  },
  {
   "cell_type": "code",
   "execution_count": null,
   "metadata": {},
   "outputs": [],
   "source": [
    "features_to_remove = ['Region', 'Household Unique Sequential Number', '2010Urban-RuralFIES',\n",
    "       'Final Weight Based on Projection (provincial projections)',\n",
    "       'Survey Month', 'Survey Year', 'Psu Number', 'Replicate',\n",
    "        'C101-Line Number', 'C05-Age as of Last Birthday', \n",
    "       'C19-Total Number of Hours Worked during the past week',\n",
    "       'C20-Want More Hours of Work', 'C21-Look for Additional Work',\n",
    "       'C24-Basis of Payment (Primary Occupation)',\n",
    "       'C25-Basic Pay per Day (Primary Occupation)', 'C26-Other Job Indicator',\n",
    "       'C27-Number of Jobs during the past week',\n",
    "       'C28-Total Hours Worked for all Jobs',\n",
    "       'C29-Reasons for Working More than 48 Hours during the past week',\n",
    "       'C30-Looked for Work or Tried to Establish Business during the past week',\n",
    "       'C31-First Time to Look for Work',\n",
    "       'C33-Number of Weeks Spent in Looking for Work',\n",
    "       'C34-Reason for not Looking for Work', 'C35-When Last Looked for Work',\n",
    "       'C37-Willingness to take up work during the past week or within two weeks',\n",
    "       'C38-Previous Job Indicator', 'C40-Previous Occupation',\n",
    "       'C41-Did work or had a job during the past quarter',\n",
    "       'C43-Kind of Business (past quarter)',\n",
    "        'Unnamed: 49', 'Unnamed: 50',\n",
    "       'Unnamed: 51', 'Unnamed: 52', 'Unnamed: 53', 'Unnamed: 54']\n",
    "\n",
    "data.drop(features_to_remove, axis=1, inplace=True)\n",
    "data.head()"
   ]
  },
  {
   "cell_type": "code",
   "execution_count": null,
   "metadata": {},
   "outputs": [],
   "source": [
    "# @title Colors\n",
    "colors = [\"#648FFF\", \"#785EF0\", \"#DC267F\", \"#FE6100\", \"#FFB000\", \"#000000\", \"#FFFFFF\"]\n",
    "colors_grad = sns.color_palette('flare_r',  12)\n",
    "colors_heat1 = sns.color_palette('flare_r', as_cmap=True)\n",
    "colors_heat2 = sns.diverging_palette(315, 261, s=74, l=50, center='dark', as_cmap=True)\n",
    "\n",
    "color_bg = \"#1B181C\"\n",
    "color_text = \"#FFFFFF\"\n",
    "\n",
    "\n",
    "sns.palplot(colors)\n",
    "plt.gca().set_title('Basic Palette', fontsize=6, pad=10)\n",
    "\n",
    "sns.palplot(colors_grad)\n",
    "plt.gca().set_title('Gradient Palette', fontsize=10, pad=10)\n",
    "\n",
    "plt.show()"
   ]
  },
  {
   "cell_type": "code",
   "execution_count": null,
   "metadata": {},
   "outputs": [],
   "source": [
    "# @title Plot settings\n",
    "mpl.rcParams['figure.dpi'] = 600\n",
    "mpl.rcParams[\"figure.figsize\"] = 16,8\n",
    "\n",
    "# Text\n",
    "# mpl.rcParams['font.family'] = 'Roboto'\n",
    "\n",
    "# Title\n",
    "mpl.rcParams['figure.titlesize'] = 32\n",
    "mpl.rcParams['axes.titlesize'] = 32\n",
    "mpl.rcParams['axes.titleweight'] = 'bold'\n",
    "\n",
    "# Labels\n",
    "mpl.rcParams['axes.labelsize'] = 22\n",
    "mpl.rcParams['xtick.labelsize'] = 22\n",
    "mpl.rcParams['ytick.labelsize'] = 22\n",
    "\n",
    "# Spacing\n",
    "mpl.rcParams['axes.titlepad'] = 72\n",
    "mpl.rcParams['axes.labelpad'] = 10\n",
    "mpl.rcParams['xtick.major.pad'] = 10\n",
    "mpl.rcParams['ytick.major.pad'] = 10\n",
    "mpl.rcParams['xtick.major.width'] = 0\n",
    "mpl.rcParams['xtick.minor.width'] = 0\n",
    "mpl.rcParams['ytick.major.width'] = 0\n",
    "mpl.rcParams['ytick.minor.width'] = 0\n",
    "\n",
    "# Spines and grids\n",
    "mpl.rcParams['axes.spines.top'] = False\n",
    "mpl.rcParams['axes.spines.right'] = False\n",
    "mpl.rcParams['axes.grid'] = False\n",
    "\n",
    "# Legends\n",
    "mpl.rcParams['legend.title_fontsize'] = 18\n",
    "mpl.rcParams['legend.fontsize'] = 18\n",
    "mpl.rcParams['legend.frameon'] = False\n",
    "\n",
    "# Bars\n",
    "plt.rcParams['patch.linewidth'] = 0\n",
    "plt.rcParams['patch.edgecolor'] = 'none'\n",
    "\n",
    "# Colors\n",
    "mpl.rcParams[\"figure.facecolor\"] = color_bg\n",
    "mpl.rcParams[\"axes.facecolor\"] = color_bg\n",
    "mpl.rcParams[\"savefig.facecolor\"] = color_bg\n",
    "\n",
    "# Text colors\n",
    "mpl.rcParams['text.color'] = color_text\n",
    "mpl.rcParams['axes.labelcolor'] = color_text\n",
    "mpl.rcParams['xtick.color'] = color_text\n",
    "mpl.rcParams['ytick.color'] = color_text\n",
    "\n",
    "# Line colorsc\n",
    "mpl.rcParams['axes.edgecolor'] = color_text"
   ]
  },
  {
   "cell_type": "markdown",
   "metadata": {},
   "source": [
    "#### Distribution of Male and Female in Workplace\n",
    "\n"
   ]
  },
  {
   "cell_type": "code",
   "execution_count": null,
   "metadata": {},
   "outputs": [],
   "source": [
    "\n",
    "employed_data = data[(data['C10-Overseas Filipino Indicator'] == 1) | (data['C11-Work Indicator'] == 1) | (data['C12-Job Indicator'] == 1) | (data['New Employment Criteria (jul 05, 2005)'] == 1) ]\n",
    "\n",
    "total_male_count = data[data['C04-Sex'] == 1].shape[0]\n",
    "total_female_count = data[data['C04-Sex'] == 2].shape[0]\n",
    "\n",
    "employed_male_percentage = (employed_data[employed_data['C04-Sex'] == 1].shape[0] / total_male_count) * 100\n",
    "employed_female_percentage = (employed_data[employed_data['C04-Sex'] == 2].shape[0] / total_female_count) * 100\n",
    "\n",
    "genders = ['Male', 'Female']\n",
    "percentages = [employed_male_percentage, employed_female_percentage]\n",
    "colors = ['#648FFF', '#DC267F']\n",
    "\n",
    "plt.bar(genders, percentages, color=colors)\n",
    "plt.ylabel('Percentage')\n",
    "plt.title('Percentage of Employed Individuals by Gender')\n",
    "plt.show()\n",
    "\n",
    "\n"
   ]
  },
  {
   "cell_type": "code",
   "execution_count": null,
   "metadata": {},
   "outputs": [],
   "source": [
    "data_new = data.pivot_table(index='Household Size', columns='C04-Sex', aggfunc='size', fill_value=0)\n",
    "data_to_list = data_new.index.tolist()\n",
    "\n",
    "employed_data = data[(data['C10-Overseas Filipino Indicator'] == 1) | (data['C11-Work Indicator'] == 1) | (data['C12-Job Indicator'] == 1) | (data['New Employment Criteria (jul 05, 2005)'] == 1) ]\n",
    "employed_data_new = employed_data.pivot_table(index='Household Size', columns='C04-Sex', aggfunc='size', fill_value=0)\n",
    "\n",
    "\n",
    "# Get the counts for men and women\n",
    "men_counts = (employed_data_new[1] / data_new[1]).tolist()\n",
    "women_counts = (employed_data_new[2] / data_new[2]).tolist()\n",
    "\n",
    "# Define a mapping of original labels to custom labels\n",
    "label_mapping = {1: '1', 2: '2', 3: '3', 4: '4', 5: '5', 6: '6', 7: '7', \n",
    "                 8: '8', 9: '9', 10: '10', 11: '11', 12: '12', 13: '13', 14: '14', 15: '15', 16: '16', 17: '17', 18: '18',\n",
    "                 19: '19', 20: '20', 21: '21', 22: '22'}\n",
    "\n",
    "# Map the original labels to custom labels\n",
    "custom_labels = [label_mapping[dt] for dt in data_to_list]\n",
    "\n",
    "# Define the width of each bar\n",
    "bar_width = 0.35\n",
    "\n",
    "# Set the positions for the bars\n",
    "r1 = np.arange(len(data_to_list))\n",
    "r2 = [x + bar_width for x in r1]\n",
    "\n",
    "# Plot the bar graph\n",
    "plt.bar(r1, men_counts, color='#648FFF', width=bar_width, label='Men')\n",
    "plt.bar(r2, women_counts, color='#DC267F', width=bar_width, label='Women')\n",
    "\n",
    "# Add labels and title\n",
    "plt.xlabel('Household Size')\n",
    "plt.ylabel('Percentage')\n",
    "plt.title('Percentage of Gender Employment by Household Size')\n",
    "plt.xticks([r + bar_width/2 for r in range(len(data_to_list))], custom_labels, rotation=45, ha='right')\n",
    "plt.legend()\n",
    "\n",
    "# Show the plot\n",
    "plt.show()"
   ]
  },
  {
   "cell_type": "code",
   "execution_count": null,
   "metadata": {},
   "outputs": [],
   "source": [
    "data_new = data.pivot_table(index='C03-Relationship to Household Head', columns='C04-Sex', aggfunc='size', fill_value=0)\n",
    "data_to_list = data_new.index.tolist()\n",
    "\n",
    "employed_data = data[(data['C10-Overseas Filipino Indicator'] == 1) | (data['C11-Work Indicator'] == 1) | (data['C12-Job Indicator'] == 1) | (data['New Employment Criteria (jul 05, 2005)'] == 1) ]\n",
    "employed_data_new = employed_data.pivot_table(index='C03-Relationship to Household Head', columns='C04-Sex', aggfunc='size', fill_value=0)\n",
    "\n",
    "\n",
    "# Get the counts for men and women\n",
    "men_counts = (employed_data_new[1] / data_new[1]).tolist()\n",
    "women_counts = (employed_data_new[2] / data_new[2]).tolist()\n",
    "\n",
    "# Define a mapping of original labels to custom labels\n",
    "label_mapping = {1: 'Head', 2: 'Spouse', 3: 'Son/Daughter', 4: 'Brother/Sister', 5: 'Son/Daughter in Law', 6: 'Grandchildren', 7: 'Father/Mother', \n",
    "                 8: 'Other Relative', 9: 'Boarder', 10: 'Domestic Helper', 11: 'Non Relative'}\n",
    "\n",
    "# Map the original labels to custom labels\n",
    "custom_labels = [label_mapping[dt] for dt in data_to_list]\n",
    "\n",
    "# Define the width of each bar\n",
    "bar_width = 0.35\n",
    "\n",
    "# Set the positions for the bars\n",
    "r1 = np.arange(len(data_to_list))\n",
    "r2 = [x + bar_width for x in r1]\n",
    "\n",
    "# Plot the bar graph\n",
    "plt.bar(r1, men_counts, color='#648FFF', width=bar_width, label='Men')\n",
    "plt.bar(r2, women_counts, color='#DC267F', width=bar_width, label='Women')\n",
    "\n",
    "# Add labels and title\n",
    "plt.xlabel('Relationship to Household Head')\n",
    "plt.ylabel('Percentage')\n",
    "plt.title('Percentage of Gender Employment by their Relationship to Household Head')\n",
    "plt.xticks([r + bar_width/2 for r in range(len(data_to_list))], custom_labels, rotation=45, ha='right')\n",
    "plt.legend()\n",
    "\n",
    "# Show the plot\n",
    "plt.show()\n",
    "print(data_to_list)\n",
    "print(data_new)\n"
   ]
  },
  {
   "cell_type": "code",
   "execution_count": null,
   "metadata": {},
   "outputs": [],
   "source": [
    "data_new = data.pivot_table(index='C06-Marital Status', columns='C04-Sex', aggfunc='size', fill_value=0)\n",
    "data_to_list = data_new.index.tolist()\n",
    "\n",
    "employed_data = data[(data['C10-Overseas Filipino Indicator'] == 1) | (data['C11-Work Indicator'] == 1) | (data['C12-Job Indicator'] == 1) | (data['New Employment Criteria (jul 05, 2005)'] == 1) ]\n",
    "employed_data_new = employed_data.pivot_table(index='C06-Marital Status', columns='C04-Sex', aggfunc='size', fill_value=0)\n",
    "\n",
    "\n",
    "# Get the counts for men and women\n",
    "men_counts = (employed_data_new[1] / data_new[1]).tolist()\n",
    "women_counts = (employed_data_new[2] / data_new[2]).tolist()\n",
    "\n",
    "# Define a mapping of original labels to custom labels\n",
    "label_mapping = {1: 'Single', 2: 'Married', 3: 'Widowed', 4: 'Divorce/Seperate', 5: 'Annulled', 6: 'Unknown'}\n",
    "\n",
    "# Map the original labels to custom labels\n",
    "custom_labels = [label_mapping[dt] for dt in data_to_list]\n",
    "\n",
    "# Define the width of each bar\n",
    "bar_width = 0.35\n",
    "\n",
    "# Set the positions for the bars\n",
    "r1 = np.arange(len(data_to_list))\n",
    "r2 = [x + bar_width for x in r1]\n",
    "\n",
    "# Plot the bar graph\n",
    "plt.bar(r1, men_counts, color='#648FFF', width=bar_width, label='Men')\n",
    "plt.bar(r2, women_counts, color='#DC267F', width=bar_width, label='Women')\n",
    "\n",
    "# Add labels and title\n",
    "plt.xlabel('Marital Status')\n",
    "plt.ylabel('Percentage')\n",
    "plt.title('Percentage of Gender Employment by Marital Status')\n",
    "plt.xticks([r + bar_width/2 for r in range(len(data_to_list))], custom_labels, rotation=45, ha='right')\n",
    "plt.legend()\n",
    "\n",
    "# Show the plot\n",
    "plt.show()\n",
    "\n",
    "fgdmvjn"
   ]
  },
  {
   "cell_type": "code",
   "execution_count": null,
   "metadata": {},
   "outputs": [],
   "source": [
    "data_new = data.pivot_table(index='C17-Nature of Employment (Primary Occupation)', columns='C04-Sex', aggfunc='size', fill_value=0)\n",
    "data_to_list = data_new.index.tolist()\n",
    "\n",
    "employed_data = data[(data['C10-Overseas Filipino Indicator'] == 1) | (data['C11-Work Indicator'] == 1) | (data['C12-Job Indicator'] == 1) | (data['New Employment Criteria (jul 05, 2005)'] == 1) ]\n",
    "employed_data_new = employed_data.pivot_table(index='C17-Nature of Employment (Primary Occupation)', columns='C04-Sex', aggfunc='size', fill_value=0)\n",
    "\n",
    "\n",
    "# Get the counts for men and women\n",
    "men_counts = (employed_data_new[1] / data_new[1]).tolist()\n",
    "women_counts = (employed_data_new[2] / data_new[2]).tolist()\n",
    "\n",
    "# Define a mapping of original labels to custom labels\n",
    "label_mapping = {1: 'Permanent Job', 2: 'Short-term', 3: 'Different Employer'}\n",
    "\n",
    "# Map the original labels to custom labels\n",
    "custom_labels = [label_mapping[dt] for dt in data_to_list]\n",
    "\n",
    "# Define the width of each bar\n",
    "bar_width = 0.35\n",
    "\n",
    "# Set the positions for the bars\n",
    "r1 = np.arange(len(data_to_list))\n",
    "r2 = [x + bar_width for x in r1]\n",
    "\n",
    "# Plot the bar graph\n",
    "plt.bar(r1, men_counts, color='#648FFF', width=bar_width, label='Men')\n",
    "plt.bar(r2, women_counts, color='#DC267F', width=bar_width, label='Women')\n",
    "\n",
    "# Add labels and title\n",
    "plt.xlabel('Nature of Employment')\n",
    "plt.ylabel('Percentage')\n",
    "plt.title('Percentage of Gender Employment by Nature of Employment')\n",
    "plt.xticks([r + bar_width/2 for r in range(len(data_to_list))], custom_labels, rotation=45, ha='right')\n",
    "plt.legend()\n",
    "\n",
    "# Show the plot\n",
    "plt.show()"
   ]
  },
  {
   "cell_type": "code",
   "execution_count": null,
   "metadata": {},
   "outputs": [],
   "source": []
  }
 ],
 "metadata": {
  "kernelspec": {
   "display_name": "Python 3",
   "language": "python",
   "name": "python3"
  },
  "language_info": {
   "codemirror_mode": {
    "name": "ipython",
    "version": 3
   },
   "file_extension": ".py",
   "mimetype": "text/x-python",
   "name": "python",
   "nbconvert_exporter": "python",
   "pygments_lexer": "ipython3",
   "version": "3.12.0"
  }
 },
 "nbformat": 4,
 "nbformat_minor": 2
}
