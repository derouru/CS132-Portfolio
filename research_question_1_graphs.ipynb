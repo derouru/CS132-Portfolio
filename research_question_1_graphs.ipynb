{
 "cells": [
  {
   "cell_type": "markdown",
   "metadata": {},
   "source": [
    "### 1. Importing Libraries"
   ]
  },
  {
   "cell_type": "code",
   "execution_count": 1,
   "metadata": {},
   "outputs": [],
   "source": [
    "# @title Libraries\n",
    "import numpy as np\n",
    "import pandas as pd\n",
    "import geopandas as gpd\n",
    "\n",
    "import matplotlib as mpl\n",
    "import matplotlib.font_manager as fm\n",
    "import matplotlib.pyplot as plt\n",
    "import seaborn as sns\n",
    "\n",
    "import datetime"
   ]
  },
  {
   "cell_type": "markdown",
   "metadata": {},
   "source": [
    "### 2. Loading the dataset"
   ]
  },
  {
   "cell_type": "code",
   "execution_count": 47,
   "metadata": {},
   "outputs": [],
   "source": [
    "c14 = pd.read_csv('research_question_1_c14.csv')\n",
    "c16 = pd.read_csv('research_question_1_c16.csv')\n",
    "c23 = pd.read_csv('research_question_1_c23.csv')"
   ]
  },
  {
   "cell_type": "markdown",
   "metadata": {},
   "source": [
    "### 3. Performing Exploratory Data Analysis (EDA)\n"
   ]
  },
  {
   "cell_type": "markdown",
   "metadata": {},
   "source": [
    "We want to understand the shape of our data to know how many features and sample are present."
   ]
  },
  {
   "cell_type": "code",
   "execution_count": 3,
   "metadata": {},
   "outputs": [
    {
     "data": {
      "text/plain": [
       "(20, 3)"
      ]
     },
     "execution_count": 3,
     "metadata": {},
     "output_type": "execute_result"
    }
   ],
   "source": [
    "data.shape"
   ]
  },
  {
   "cell_type": "markdown",
   "metadata": {},
   "source": [
    "Getting the information about the data helps in identifying features and handling  values that are missing."
   ]
  },
  {
   "cell_type": "code",
   "execution_count": null,
   "metadata": {},
   "outputs": [],
   "source": [
    "data.info()"
   ]
  },
  {
   "cell_type": "markdown",
   "metadata": {},
   "source": [
    "We handle null values by filling it with the mean of columnusing the fillna() method."
   ]
  },
  {
   "cell_type": "markdown",
   "metadata": {},
   "source": [
    "We want to drop values that are deemed unnecessary and irrelevant. Removing these values simplifies the dataset."
   ]
  },
  {
   "cell_type": "code",
   "execution_count": null,
   "metadata": {},
   "outputs": [],
   "source": [
    "data.head()"
   ]
  },
  {
   "cell_type": "code",
   "execution_count": null,
   "metadata": {},
   "outputs": [],
   "source": [
    "# @title Download fonts\n",
    "!wget 'https://github.com/openmaptiles/fonts/raw/master/roboto/Roboto-Light.ttf'\n",
    "!wget 'https://github.com/openmaptiles/fonts/raw/master/roboto/Roboto-Regular.ttf'\n",
    "!wget 'https://github.com/openmaptiles/fonts/raw/master/roboto/Roboto-Medium.ttf'\n",
    "!wget 'https://github.com/openmaptiles/fonts/raw/master/roboto/Roboto-Bold.ttf'"
   ]
  },
  {
   "cell_type": "code",
   "execution_count": null,
   "metadata": {},
   "outputs": [],
   "source": [
    "# @title Colors\n",
    "colors = [\"#648FFF\", \"#785EF0\", \"#DC267F\", \"#FE6100\", \"#FFB000\", \"#000000\", \"#FFFFFF\"]\n",
    "colors_grad = sns.color_palette('flare_r',  12)\n",
    "colors_heat1 = sns.color_palette('flare_r', as_cmap=True)\n",
    "colors_heat2 = sns.diverging_palette(315, 261, s=74, l=50, center='dark', as_cmap=True)\n",
    "\n",
    "color_bg = \"#1B181C\"\n",
    "color_text = \"#FFFFFF\"\n",
    "\n",
    "\n",
    "sns.palplot(colors)\n",
    "plt.gca().set_title('Basic Palette', fontsize=6, pad=10)\n",
    "\n",
    "sns.palplot(colors_grad)\n",
    "plt.gca().set_title('Gradient Palette', fontsize=10, pad=10)\n",
    "\n",
    "plt.show()"
   ]
  },
  {
   "cell_type": "code",
   "execution_count": 14,
   "metadata": {},
   "outputs": [],
   "source": [
    "# @title Plot settings\n",
    "mpl.rcParams['figure.dpi'] = 600\n",
    "mpl.rcParams[\"figure.figsize\"] = 16,8\n",
    "\n",
    "# Text\n",
    "mpl.rcParams['font.family'] = 'Roboto'\n",
    "\n",
    "# Title\n",
    "mpl.rcParams['figure.titlesize'] = 32\n",
    "mpl.rcParams['axes.titlesize'] = 32\n",
    "mpl.rcParams['axes.titleweight'] = 'bold'\n",
    "\n",
    "# Labels\n",
    "mpl.rcParams['axes.labelsize'] = 22\n",
    "mpl.rcParams['xtick.labelsize'] = 22\n",
    "mpl.rcParams['ytick.labelsize'] = 22\n",
    "\n",
    "# Spacing\n",
    "mpl.rcParams['axes.titlepad'] = 72\n",
    "mpl.rcParams['axes.labelpad'] = 10\n",
    "mpl.rcParams['xtick.major.pad'] = 10\n",
    "mpl.rcParams['ytick.major.pad'] = 10\n",
    "mpl.rcParams['xtick.major.width'] = 0\n",
    "mpl.rcParams['xtick.minor.width'] = 0\n",
    "mpl.rcParams['ytick.major.width'] = 0\n",
    "mpl.rcParams['ytick.minor.width'] = 0\n",
    "\n",
    "# Spines and grids\n",
    "mpl.rcParams['axes.spines.top'] = False\n",
    "mpl.rcParams['axes.spines.right'] = False\n",
    "mpl.rcParams['axes.grid'] = False\n",
    "\n",
    "# Legends\n",
    "mpl.rcParams['legend.title_fontsize'] = 18\n",
    "mpl.rcParams['legend.fontsize'] = 18\n",
    "mpl.rcParams['legend.frameon'] = False\n",
    "\n",
    "# Bars\n",
    "plt.rcParams['patch.linewidth'] = 0\n",
    "plt.rcParams['patch.edgecolor'] = 'none'\n",
    "\n",
    "# Colors\n",
    "mpl.rcParams[\"figure.facecolor\"] = color_bg\n",
    "mpl.rcParams[\"axes.facecolor\"] = color_bg\n",
    "mpl.rcParams[\"savefig.facecolor\"] = color_bg\n",
    "\n",
    "# Text colors\n",
    "mpl.rcParams['text.color'] = color_text\n",
    "mpl.rcParams['axes.labelcolor'] = color_text\n",
    "mpl.rcParams['xtick.color'] = color_text\n",
    "mpl.rcParams['ytick.color'] = color_text\n",
    "\n",
    "# Line colorsc\n",
    "mpl.rcParams['axes.edgecolor'] = color_text"
   ]
  },
  {
   "cell_type": "code",
   "execution_count": null,
   "metadata": {},
   "outputs": [],
   "source": [
    "g = sns.catplot(x='Primary Occupation Type', y='Count', hue='Sex', data=c14, kind='bar',palette=colors[1:3], height=10, aspect=2)\n",
    "\n",
    "g.ax.set(xlabel=\"Primary Occupation Type\", ylabel=\"Count\")\n",
    "g.ax.set_title('Distribution of Men and Women Across Different Primary Occupation Types')\n",
    "# @title Comparing categorical groups\n",
    "sns.move_legend(g, \"upper right\", bbox_to_anchor=(0.80, 0.98), ncol=3, title='Sex\\n')\n",
    "plt.show()\n"
   ]
  },
  {
   "cell_type": "code",
   "execution_count": null,
   "metadata": {},
   "outputs": [],
   "source": [
    "g = sns.catplot(x='Primary Occupation Industry', y='Count', hue='Sex', data=c16, kind='bar',palette=colors[1:3], height=10, aspect=2)\n",
    "\n",
    "g.ax.set(xlabel=\"Primary Occupation Type\", ylabel=\"Count\")\n",
    "g.ax.set_title('Distribution of Men and Women Across Different Industry Types')\n",
    "# @title Comparing categorical groups\n",
    "sns.move_legend(g, \"upper right\", bbox_to_anchor=(0.80, 0.98), ncol=3, title='Sex\\n')\n",
    "plt.show()"
   ]
  },
  {
   "cell_type": "code",
   "execution_count": null,
   "metadata": {},
   "outputs": [],
   "source": [
    "g = sns.catplot(x='Worker Class', y='Count', hue='Sex', data=c23, kind='bar',palette=colors[1:3], height=10, aspect=2)\n",
    "\n",
    "g.ax.set(xlabel=\"Primary Occupation Type\", ylabel=\"Count\")\n",
    "g.ax.set_title('Distribution of Men and Women Across Different Worker Classes')\n",
    "# @title Comparing categorical groups\n",
    "sns.move_legend(g, \"upper right\", bbox_to_anchor=(0.80, 0.98), ncol=3, title='Sex\\n')\n",
    "plt.show()"
   ]
  },
  {
   "cell_type": "markdown",
   "metadata": {},
   "source": [
    "### 4. Statistical Analysis Results "
   ]
  },
  {
   "cell_type": "markdown",
   "metadata": {},
   "source": [
    "See attached writeup."
   ]
  }
 ],
 "metadata": {
  "kernelspec": {
   "display_name": "Python 3",
   "language": "python",
   "name": "python3"
  },
  "language_info": {
   "codemirror_mode": {
    "name": "ipython",
    "version": 3
   },
   "file_extension": ".py",
   "mimetype": "text/x-python",
   "name": "python",
   "nbconvert_exporter": "python",
   "pygments_lexer": "ipython3",
   "version": "3.11.3"
  }
 },
 "nbformat": 4,
 "nbformat_minor": 2
}
